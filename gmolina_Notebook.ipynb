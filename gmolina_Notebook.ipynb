{
  "cells": [
    {
      "cell_type": "markdown",
      "source": [
        "**Ingesta de Información de Correo de Clientes**"
      ],
      "metadata": {
        "nteract": {
          "transient": {
            "deleting": false
          }
        }
      }
    },
    {
      "cell_type": "code",
      "source": [
        "from pyspark.sql import functions as F"
      ],
      "outputs": [
        {
          "output_type": "display_data",
          "data": {
            "application/vnd.livy.statement-meta+json": {
              "spark_pool": "sparkcapac",
              "session_id": 154,
              "statement_id": 33,
              "state": "finished",
              "livy_statement_state": "available",
              "queued_time": "2022-06-28T02:46:58.2451923Z",
              "session_start_time": null,
              "execution_start_time": "2022-06-28T02:46:58.3513149Z",
              "execution_finish_time": "2022-06-28T02:46:58.4913192Z"
            },
            "text/plain": "StatementMeta(sparkcapac, 154, 33, Finished, Available)"
          },
          "metadata": {}
        }
      ],
      "execution_count": 33,
      "metadata": {
        "jupyter": {
          "source_hidden": false,
          "outputs_hidden": false
        },
        "nteract": {
          "transient": {
            "deleting": false
          }
        }
      }
    },
    {
      "cell_type": "code",
      "source": [
        "dfClienteCorreo = spark.read.option('header',True).csv('abfss://capacitacion@sesacapacitacion.dfs.core.windows.net/synapse/workspaces/synapsecapacitacion/warehouse/raw/GMolina/clientes_correos.csv')"
      ],
      "outputs": [
        {
          "output_type": "display_data",
          "data": {
            "application/vnd.livy.statement-meta+json": {
              "spark_pool": "sparkcapac",
              "session_id": 154,
              "statement_id": 10,
              "state": "finished",
              "livy_statement_state": "available",
              "queued_time": "2022-06-28T02:16:51.1360192Z",
              "session_start_time": null,
              "execution_start_time": "2022-06-28T02:16:51.2589779Z",
              "execution_finish_time": "2022-06-28T02:16:51.7788897Z"
            },
            "text/plain": "StatementMeta(sparkcapac, 154, 10, Finished, Available)"
          },
          "metadata": {}
        }
      ],
      "execution_count": 10,
      "metadata": {
        "jupyter": {
          "source_hidden": false,
          "outputs_hidden": false
        },
        "nteract": {
          "transient": {
            "deleting": false
          }
        }
      }
    },
    {
      "cell_type": "code",
      "source": [
        "dfClienteCorreo.show()"
      ],
      "outputs": [
        {
          "output_type": "display_data",
          "data": {
            "application/vnd.livy.statement-meta+json": {
              "spark_pool": "sparkcapac",
              "session_id": 154,
              "statement_id": 11,
              "state": "finished",
              "livy_statement_state": "available",
              "queued_time": "2022-06-28T02:16:56.7408601Z",
              "session_start_time": null,
              "execution_start_time": "2022-06-28T02:16:56.8515647Z",
              "execution_finish_time": "2022-06-28T02:16:59.6573915Z"
            },
            "text/plain": "StatementMeta(sparkcapac, 154, 11, Finished, Available)"
          },
          "metadata": {}
        },
        {
          "output_type": "stream",
          "name": "stdout",
          "text": [
            "+-----------------+--------------------+\n|     rowidcliente|               email|\n+-----------------+--------------------+\n|recTvJ1sICnY6e0ue|mario.dybvik@exam...|\n|recV0UzVjes1sitxe|judy.paijmans@exa...|\n|recWxdYj8g6rYlG00|alex.phillips@exa...|\n|recaKpxSuMhgKdkpc| noah.li@example.com|\n|recsx57ChLEoEZJh5|maritta.michler@e...|\n|rec27Te7beTbnRT9a|ricardo.neal@exam...|\n|recjAiAuBpUS1vaeU|reinhardt.sperlic...|\n|recIa5U0Ht1kIGpve|antonio.vazquez@e...|\n|rechqXqjqFmDwtXZ7|hilda.patterson@e...|\n|recjEtLYlb6bwwRIU|imogen.hall@examp...|\n|recPXwNxulSUAIlkr|sharon.guillot@ex...|\n|recg28ai2lCvqVHwE|milla.hatala@exam...|\n|reclKpXDCfQoP2dTn|peppi.maki@exampl...|\n|reczpSdsaI5XV3wPH|maxim.lambert@exa...|\n|recFXI4biywiNn4FU|josep.gonzalez@ex...|\n|rec4N2pDW2bY1r38L|vitali.topp@examp...|\n|recuUnU9zttIspmkO|nora.simpson@exam...|\n|rec3u3hc3mwjRfZlq|william.bishop@ex...|\n|recFzsWIlGec67GqW|victoria.deschamp...|\n|recPI8Y8roYSHm7fw|bertha.dean@examp...|\n+-----------------+--------------------+\nonly showing top 20 rows\n\n"
          ]
        }
      ],
      "execution_count": 11,
      "metadata": {
        "jupyter": {
          "source_hidden": false,
          "outputs_hidden": false
        },
        "nteract": {
          "transient": {
            "deleting": false
          }
        }
      }
    },
    {
      "cell_type": "markdown",
      "source": [
        "**Lectura de Datos Transaccionales**\r\n",
        "\r\n",
        "Carga de archivos parquet con información de Cliente, Producto, Factura y FacturaProducto."
      ],
      "metadata": {
        "nteract": {
          "transient": {
            "deleting": false
          }
        }
      }
    },
    {
      "cell_type": "code",
      "source": [
        "vPath = 'abfss://capacitacion@sesacapacitacion.dfs.core.windows.net/synapse/workspaces/synapsecapacitacion/warehouse/raw/GMolina/'\r\n",
        "dfCliente = spark.read.load(vPath + 'cliente.parquet', format='parquet')\r\n",
        "dfProducto = spark.read.load(vPath + 'producto.parquet', format='parquet')\r\n",
        "dfFactura = spark.read.load(vPath + 'factura.parquet', format='parquet')\r\n",
        "dfFactProducto = spark.read.load(vPath + 'facturaproducto.parquet', format='parquet')"
      ],
      "outputs": [
        {
          "output_type": "display_data",
          "data": {
            "application/vnd.livy.statement-meta+json": {
              "spark_pool": "sparkcapac",
              "session_id": 154,
              "statement_id": 4,
              "state": "finished",
              "livy_statement_state": "available",
              "queued_time": "2022-06-28T02:06:21.1000744Z",
              "session_start_time": null,
              "execution_start_time": "2022-06-28T02:06:21.2045211Z",
              "execution_finish_time": "2022-06-28T02:06:23.01749Z"
            },
            "text/plain": "StatementMeta(sparkcapac, 154, 4, Finished, Available)"
          },
          "metadata": {}
        }
      ],
      "execution_count": 4,
      "metadata": {
        "jupyter": {
          "source_hidden": false,
          "outputs_hidden": false
        },
        "nteract": {
          "transient": {
            "deleting": false
          }
        }
      }
    },
    {
      "cell_type": "markdown",
      "source": [
        "**Cruce datos cliente con el correo**"
      ],
      "metadata": {
        "nteract": {
          "transient": {
            "deleting": false
          }
        }
      }
    },
    {
      "cell_type": "code",
      "source": [
        "dfClienteCorreo2 = ( dfCliente\r\n",
        "    .join(dfClienteCorreo, dfCliente.rowidcliente == dfClienteCorreo.rowidcliente)\r\n",
        "    .select(dfCliente.rowidcliente, dfClienteCorreo.email))"
      ],
      "outputs": [
        {
          "output_type": "display_data",
          "data": {
            "application/vnd.livy.statement-meta+json": {
              "spark_pool": "sparkcapac",
              "session_id": 154,
              "statement_id": 14,
              "state": "finished",
              "livy_statement_state": "available",
              "queued_time": "2022-06-28T02:22:13.6085179Z",
              "session_start_time": null,
              "execution_start_time": "2022-06-28T02:22:13.789968Z",
              "execution_finish_time": "2022-06-28T02:22:13.9520432Z"
            },
            "text/plain": "StatementMeta(sparkcapac, 154, 14, Finished, Available)"
          },
          "metadata": {}
        }
      ],
      "execution_count": 14,
      "metadata": {
        "jupyter": {
          "source_hidden": false,
          "outputs_hidden": false
        },
        "nteract": {
          "transient": {
            "deleting": false
          }
        }
      }
    },
    {
      "cell_type": "markdown",
      "source": [
        "**Cruzar la información de todo el modelo**"
      ],
      "metadata": {
        "nteract": {
          "transient": {
            "deleting": false
          }
        }
      }
    },
    {
      "cell_type": "code",
      "source": [
        "dfResultado = ( dfFactura\r\n",
        "    .join(dfFactProducto, dfFactura.rowidfactura == dfFactProducto.rowidfactura)\r\n",
        "    .join(dfProducto,dfFactProducto.rowidproducto==dfProducto.rowidproducto )\r\n",
        "    .select(dfFactura.rowidcliente, dfProducto.producto,dfFactura.fecha ))"
      ],
      "outputs": [
        {
          "output_type": "display_data",
          "data": {
            "application/vnd.livy.statement-meta+json": {
              "spark_pool": "sparkcapac",
              "session_id": 154,
              "statement_id": 19,
              "state": "finished",
              "livy_statement_state": "available",
              "queued_time": "2022-06-28T02:29:03.4797392Z",
              "session_start_time": null,
              "execution_start_time": "2022-06-28T02:29:03.6320286Z",
              "execution_finish_time": "2022-06-28T02:29:03.7988824Z"
            },
            "text/plain": "StatementMeta(sparkcapac, 154, 19, Finished, Available)"
          },
          "metadata": {}
        }
      ],
      "execution_count": 19,
      "metadata": {
        "jupyter": {
          "source_hidden": false,
          "outputs_hidden": false
        },
        "nteract": {
          "transient": {
            "deleting": false
          }
        }
      }
    },
    {
      "cell_type": "markdown",
      "source": [
        "**Conteo de Productos por cliente**"
      ],
      "metadata": {
        "nteract": {
          "transient": {
            "deleting": false
          }
        }
      }
    },
    {
      "cell_type": "code",
      "source": [
        "df_R1=dfResultado.groupby(dfResultado.rowidcliente,dfResultado.producto).count().withColumnRenamed(\"count\", \"ConteoP\")"
      ],
      "outputs": [
        {
          "output_type": "display_data",
          "data": {
            "application/vnd.livy.statement-meta+json": {
              "spark_pool": "sparkcapac",
              "session_id": 154,
              "statement_id": 28,
              "state": "finished",
              "livy_statement_state": "available",
              "queued_time": "2022-06-28T02:42:14.7944489Z",
              "session_start_time": null,
              "execution_start_time": "2022-06-28T02:42:14.9408962Z",
              "execution_finish_time": "2022-06-28T02:42:15.0826014Z"
            },
            "text/plain": "StatementMeta(sparkcapac, 154, 28, Finished, Available)"
          },
          "metadata": {}
        }
      ],
      "execution_count": 28,
      "metadata": {
        "jupyter": {
          "source_hidden": false,
          "outputs_hidden": false
        },
        "nteract": {
          "transient": {
            "deleting": false
          }
        }
      }
    },
    {
      "cell_type": "code",
      "source": [
        "df_R1.show()"
      ],
      "outputs": [
        {
          "output_type": "display_data",
          "data": {
            "application/vnd.livy.statement-meta+json": {
              "spark_pool": "sparkcapac",
              "session_id": 154,
              "statement_id": 29,
              "state": "finished",
              "livy_statement_state": "available",
              "queued_time": "2022-06-28T02:42:18.1113486Z",
              "session_start_time": null,
              "execution_start_time": "2022-06-28T02:42:18.2934079Z",
              "execution_finish_time": "2022-06-28T02:42:20.131738Z"
            },
            "text/plain": "StatementMeta(sparkcapac, 154, 29, Finished, Available)"
          },
          "metadata": {}
        },
        {
          "output_type": "stream",
          "name": "stdout",
          "text": [
            "+-----------------+--------------------+-------+\n|     rowidcliente|            producto|ConteoP|\n+-----------------+--------------------+-------+\n|recaJTnyKtGAI24fV|   Limpieza profunda|      2|\n|recPI8Y8roYSHm7fw|    Limpieza express|      2|\n|reccJcCj7FGHF2t9K|   Limpieza profunda|      2|\n|recSERsMy4frAoYuL|   Limpieza profunda|      1|\n|recJcRJ4O0oMtZCAv|    Limpieza express|      1|\n|rec37Yb5EwFWulcwn|    Limpieza express|     14|\n|recrK2xUGnyp2DSWb|    Muebles (puesto)|      3|\n|rec0uQWYSnW1IvzcM|    Colchón 3 plazas|      1|\n|recmwEnJXirC0pmUj|    Muebles (puesto)|      1|\n|reca5K9yXb6KmDKtr|    Muebles (puesto)|      1|\n|rec27Te7beTbnRT9a|   Limpieza profunda|      1|\n|reccD6IC7H8UpOChp|   Limpieza profunda|      2|\n|recAGExCpv7VM2fK4|   Limpieza profunda|      5|\n|recdVKOcXa44Y8gZ2|    Limpieza express|      1|\n|recDuTThryi7uX15s|     Colchón 1 plaza|      1|\n|recHP6QPjizME0bgw|Colchón 2 1/2 plazas|      1|\n|rec3Wp1wyHlLKt5IN|   Limpieza profunda|      1|\n|reczFNN5c0p3big9v|    Limpieza express|      4|\n|recZbggnoJ6884c7c|      Alfombras (m2)|      1|\n|recG3pedpxhezUFPM|    Colchón 2 plazas|      1|\n+-----------------+--------------------+-------+\nonly showing top 20 rows\n\n"
          ]
        }
      ],
      "execution_count": 29,
      "metadata": {
        "jupyter": {
          "source_hidden": false,
          "outputs_hidden": false
        },
        "nteract": {
          "transient": {
            "deleting": false
          }
        }
      }
    },
    {
      "cell_type": "markdown",
      "source": [
        "**Sacar el máximo para obtener el producto más vendido**"
      ],
      "metadata": {
        "nteract": {
          "transient": {
            "deleting": false
          }
        }
      }
    },
    {
      "cell_type": "code",
      "source": [
        "df_R2= df_R1.groupBy(\"rowidcliente\").agg(F.max(\"ConteoP\")).withColumnRenamed(\"max(ConteoP)\", \"MaximoP\")"
      ],
      "outputs": [
        {
          "output_type": "display_data",
          "data": {
            "application/vnd.livy.statement-meta+json": {
              "spark_pool": "sparkcapac",
              "session_id": 154,
              "statement_id": 37,
              "state": "finished",
              "livy_statement_state": "available",
              "queued_time": "2022-06-28T02:49:55.3473115Z",
              "session_start_time": null,
              "execution_start_time": "2022-06-28T02:49:55.4477289Z",
              "execution_finish_time": "2022-06-28T02:49:55.6161822Z"
            },
            "text/plain": "StatementMeta(sparkcapac, 154, 37, Finished, Available)"
          },
          "metadata": {}
        }
      ],
      "execution_count": 37,
      "metadata": {
        "jupyter": {
          "source_hidden": false,
          "outputs_hidden": false
        },
        "nteract": {
          "transient": {
            "deleting": false
          }
        }
      }
    },
    {
      "cell_type": "markdown",
      "source": [
        "**Resultado Final, donde se obtiene el listado de clientes con el producto más comprado.**"
      ],
      "metadata": {
        "nteract": {
          "transient": {
            "deleting": false
          }
        }
      }
    },
    {
      "cell_type": "code",
      "source": [
        "df_Resultado_Producto= (dfResultado.alias('t1')\r\n",
        "    .join( df_R1.alias('t4'),(F.col('t1.rowidcliente') == F.col('t4.rowidcliente')))\r\n",
        "    .join(df_R2.alias('t2'),(F.col('t1.rowidcliente') == F.col('t2.rowidcliente'))&(F.col('t4.ConteoP') == F.col('t2.MaximoP'))) \r\n",
        "    .join (dfClienteCorreo2.alias('t3'),(F.col('t2.rowidcliente') == F.col('t3.rowidcliente')))\r\n",
        "    .select(F.col('t1.rowidcliente'),F.col('t1.producto'), F.col('t1.fecha'),F.col('t3.email'))\r\n",
        ")"
      ],
      "outputs": [
        {
          "output_type": "display_data",
          "data": {
            "application/vnd.livy.statement-meta+json": {
              "spark_pool": "sparkcapac",
              "session_id": 154,
              "statement_id": 54,
              "state": "finished",
              "livy_statement_state": "available",
              "queued_time": "2022-06-28T03:16:45.0662278Z",
              "session_start_time": null,
              "execution_start_time": "2022-06-28T03:16:45.7246176Z",
              "execution_finish_time": "2022-06-28T03:17:24.6555537Z"
            },
            "text/plain": "StatementMeta(sparkcapac, 154, 54, Finished, Available)"
          },
          "metadata": {}
        }
      ],
      "execution_count": 54,
      "metadata": {
        "jupyter": {
          "source_hidden": false,
          "outputs_hidden": false
        },
        "nteract": {
          "transient": {
            "deleting": false
          }
        }
      }
    },
    {
      "cell_type": "markdown",
      "source": [
        "**Crear la tabla con el resultado final en el Pool**"
      ],
      "metadata": {
        "nteract": {
          "transient": {
            "deleting": false
          }
        }
      }
    },
    {
      "cell_type": "code",
      "source": [
        "df_Resultado_Producto.write.mode(\"overwrite\").saveAsTable(\"default.tbl_gmolina\")\r\n",
        "vPathResult = 'abfss://capacitacion@sesacapacitacion.dfs.core.windows.net/synapse/workspaces/synapsecapacitacion/warehouse/raw/GMolina/tbl_gmolina.parquet'\r\n",
        "df_Resultado_Producto.repartition(1).write.mode(\"overwrite\").parquet(vPathResult)"
      ],
      "outputs": [
        {
          "output_type": "display_data",
          "data": {
            "application/vnd.livy.statement-meta+json": {
              "spark_pool": "sparkcapac",
              "session_id": 154,
              "statement_id": 56,
              "state": "finished",
              "livy_statement_state": "available",
              "queued_time": "2022-06-28T03:21:22.241224Z",
              "session_start_time": null,
              "execution_start_time": "2022-06-28T03:21:22.3663117Z",
              "execution_finish_time": "2022-06-28T03:21:47.5807632Z"
            },
            "text/plain": "StatementMeta(sparkcapac, 154, 56, Finished, Available)"
          },
          "metadata": {}
        }
      ],
      "execution_count": 56,
      "metadata": {
        "jupyter": {
          "source_hidden": false,
          "outputs_hidden": false
        },
        "nteract": {
          "transient": {
            "deleting": false
          }
        }
      }
    }
  ],
  "metadata": {
    "language_info": {
      "name": "python"
    },
    "kernelspec": {
      "name": "synapse_pyspark",
      "language": "Python",
      "display_name": "Synapse PySpark"
    },
    "kernel_info": {
      "name": "synapse_pyspark"
    },
    "save_output": true,
    "synapse_widget": {
      "version": "0.1",
      "state": {}
    }
  },
  "nbformat": 4,
  "nbformat_minor": 2
}